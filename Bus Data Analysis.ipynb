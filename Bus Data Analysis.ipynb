{
 "cells": [
  {
   "cell_type": "code",
   "execution_count": 2,
   "id": "d4f0d875",
   "metadata": {},
   "outputs": [],
   "source": [
    "import numpy as np\n",
    "import pandas as pd"
   ]
  },
  {
   "cell_type": "code",
   "execution_count": 3,
   "id": "64366114",
   "metadata": {},
   "outputs": [],
   "source": [
    "pre2025=pd.read_csv('MTA_Bus_Hourly_Ridership__2020-2024.csv')\n",
    "post2025=pd.read_csv('MTA_Bus_Hourly_Ridership__Beginning_2025.csv')\n"
   ]
  },
  {
   "cell_type": "code",
   "execution_count": 4,
   "id": "c294d645",
   "metadata": {},
   "outputs": [
    {
     "data": {
      "text/html": [
       "<div>\n",
       "<style scoped>\n",
       "    .dataframe tbody tr th:only-of-type {\n",
       "        vertical-align: middle;\n",
       "    }\n",
       "\n",
       "    .dataframe tbody tr th {\n",
       "        vertical-align: top;\n",
       "    }\n",
       "\n",
       "    .dataframe thead th {\n",
       "        text-align: right;\n",
       "    }\n",
       "</style>\n",
       "<table border=\"1\" class=\"dataframe\">\n",
       "  <thead>\n",
       "    <tr style=\"text-align: right;\">\n",
       "      <th></th>\n",
       "      <th>transit_timestamp</th>\n",
       "      <th>bus_route</th>\n",
       "      <th>payment_method</th>\n",
       "      <th>fare_class_category</th>\n",
       "      <th>ridership</th>\n",
       "      <th>transfers</th>\n",
       "    </tr>\n",
       "  </thead>\n",
       "  <tbody>\n",
       "    <tr>\n",
       "      <th>0</th>\n",
       "      <td>10/23/2024 01:00:00 AM</td>\n",
       "      <td>M79+</td>\n",
       "      <td>omny</td>\n",
       "      <td>Metrocard - Other</td>\n",
       "      <td>0</td>\n",
       "      <td>0</td>\n",
       "    </tr>\n",
       "    <tr>\n",
       "      <th>1</th>\n",
       "      <td>10/23/2024 01:00:00 AM</td>\n",
       "      <td>M90</td>\n",
       "      <td>metrocard</td>\n",
       "      <td>Metrocard - Seniors &amp; Disability</td>\n",
       "      <td>0</td>\n",
       "      <td>0</td>\n",
       "    </tr>\n",
       "    <tr>\n",
       "      <th>2</th>\n",
       "      <td>10/23/2024 01:00:00 AM</td>\n",
       "      <td>Q07</td>\n",
       "      <td>metrocard</td>\n",
       "      <td>OMNY - Students</td>\n",
       "      <td>0</td>\n",
       "      <td>0</td>\n",
       "    </tr>\n",
       "    <tr>\n",
       "      <th>3</th>\n",
       "      <td>10/23/2024 01:00:00 AM</td>\n",
       "      <td>Q100</td>\n",
       "      <td>metrocard</td>\n",
       "      <td>OMNY - Other</td>\n",
       "      <td>0</td>\n",
       "      <td>0</td>\n",
       "    </tr>\n",
       "    <tr>\n",
       "      <th>4</th>\n",
       "      <td>10/23/2024 01:00:00 AM</td>\n",
       "      <td>Q107</td>\n",
       "      <td>metrocard</td>\n",
       "      <td>OMNY - Students</td>\n",
       "      <td>0</td>\n",
       "      <td>0</td>\n",
       "    </tr>\n",
       "  </tbody>\n",
       "</table>\n",
       "</div>"
      ],
      "text/plain": [
       "        transit_timestamp bus_route payment_method  \\\n",
       "0  10/23/2024 01:00:00 AM      M79+           omny   \n",
       "1  10/23/2024 01:00:00 AM       M90      metrocard   \n",
       "2  10/23/2024 01:00:00 AM       Q07      metrocard   \n",
       "3  10/23/2024 01:00:00 AM      Q100      metrocard   \n",
       "4  10/23/2024 01:00:00 AM      Q107      metrocard   \n",
       "\n",
       "                fare_class_category  ridership  transfers  \n",
       "0                 Metrocard - Other          0          0  \n",
       "1  Metrocard - Seniors & Disability          0          0  \n",
       "2                   OMNY - Students          0          0  \n",
       "3                      OMNY - Other          0          0  \n",
       "4                   OMNY - Students          0          0  "
      ]
     },
     "execution_count": 4,
     "metadata": {},
     "output_type": "execute_result"
    }
   ],
   "source": [
    "pre2025.head()"
   ]
  },
  {
   "cell_type": "code",
   "execution_count": 5,
   "id": "1cbaba7a",
   "metadata": {},
   "outputs": [
    {
     "data": {
      "text/html": [
       "<div>\n",
       "<style scoped>\n",
       "    .dataframe tbody tr th:only-of-type {\n",
       "        vertical-align: middle;\n",
       "    }\n",
       "\n",
       "    .dataframe tbody tr th {\n",
       "        vertical-align: top;\n",
       "    }\n",
       "\n",
       "    .dataframe thead th {\n",
       "        text-align: right;\n",
       "    }\n",
       "</style>\n",
       "<table border=\"1\" class=\"dataframe\">\n",
       "  <thead>\n",
       "    <tr style=\"text-align: right;\">\n",
       "      <th></th>\n",
       "      <th>transit_timestamp</th>\n",
       "      <th>bus_route</th>\n",
       "      <th>payment_method</th>\n",
       "      <th>fare_class_category</th>\n",
       "      <th>ridership</th>\n",
       "      <th>transfers</th>\n",
       "    </tr>\n",
       "  </thead>\n",
       "  <tbody>\n",
       "    <tr>\n",
       "      <th>0</th>\n",
       "      <td>01/01/2025 09:00:00 PM</td>\n",
       "      <td>S86</td>\n",
       "      <td>omny</td>\n",
       "      <td>OMNY - Fair Fare</td>\n",
       "      <td>0</td>\n",
       "      <td>0</td>\n",
       "    </tr>\n",
       "    <tr>\n",
       "      <th>1</th>\n",
       "      <td>01/01/2025 09:00:00 PM</td>\n",
       "      <td>S89</td>\n",
       "      <td>omny</td>\n",
       "      <td>Metrocard - Other</td>\n",
       "      <td>0</td>\n",
       "      <td>0</td>\n",
       "    </tr>\n",
       "    <tr>\n",
       "      <th>2</th>\n",
       "      <td>01/01/2025 09:00:00 PM</td>\n",
       "      <td>S91</td>\n",
       "      <td>omny</td>\n",
       "      <td>Metrocard - Students</td>\n",
       "      <td>0</td>\n",
       "      <td>0</td>\n",
       "    </tr>\n",
       "    <tr>\n",
       "      <th>3</th>\n",
       "      <td>01/01/2025 09:00:00 PM</td>\n",
       "      <td>S93</td>\n",
       "      <td>omny</td>\n",
       "      <td>Metrocard - Other</td>\n",
       "      <td>0</td>\n",
       "      <td>0</td>\n",
       "    </tr>\n",
       "    <tr>\n",
       "      <th>4</th>\n",
       "      <td>01/01/2025 09:00:00 PM</td>\n",
       "      <td>S94</td>\n",
       "      <td>omny</td>\n",
       "      <td>Metrocard - Full Fare</td>\n",
       "      <td>0</td>\n",
       "      <td>0</td>\n",
       "    </tr>\n",
       "  </tbody>\n",
       "</table>\n",
       "</div>"
      ],
      "text/plain": [
       "        transit_timestamp bus_route payment_method    fare_class_category  \\\n",
       "0  01/01/2025 09:00:00 PM       S86           omny       OMNY - Fair Fare   \n",
       "1  01/01/2025 09:00:00 PM       S89           omny      Metrocard - Other   \n",
       "2  01/01/2025 09:00:00 PM       S91           omny   Metrocard - Students   \n",
       "3  01/01/2025 09:00:00 PM       S93           omny      Metrocard - Other   \n",
       "4  01/01/2025 09:00:00 PM       S94           omny  Metrocard - Full Fare   \n",
       "\n",
       "   ridership  transfers  \n",
       "0          0          0  \n",
       "1          0          0  \n",
       "2          0          0  \n",
       "3          0          0  \n",
       "4          0          0  "
      ]
     },
     "execution_count": 5,
     "metadata": {},
     "output_type": "execute_result"
    }
   ],
   "source": [
    "post2025.head()"
   ]
  },
  {
   "cell_type": "code",
   "execution_count": 7,
   "id": "d35b8169",
   "metadata": {},
   "outputs": [
    {
     "data": {
      "text/plain": [
       "1553"
      ]
     },
     "execution_count": 7,
     "metadata": {},
     "output_type": "execute_result"
    }
   ],
   "source": [
    "len(pre2025['ridership'].unique())"
   ]
  },
  {
   "cell_type": "code",
   "execution_count": null,
   "id": "d6a9b344",
   "metadata": {},
   "outputs": [],
   "source": []
  }
 ],
 "metadata": {
  "kernelspec": {
   "display_name": "Python 3",
   "language": "python",
   "name": "python3"
  },
  "language_info": {
   "codemirror_mode": {
    "name": "ipython",
    "version": 3
   },
   "file_extension": ".py",
   "mimetype": "text/x-python",
   "name": "python",
   "nbconvert_exporter": "python",
   "pygments_lexer": "ipython3",
   "version": "3.12.5"
  }
 },
 "nbformat": 4,
 "nbformat_minor": 5
}
